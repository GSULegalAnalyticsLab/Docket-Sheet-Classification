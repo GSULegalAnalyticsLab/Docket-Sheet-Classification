{
 "cells": [
  {
   "cell_type": "code",
   "execution_count": 46,
   "metadata": {},
   "outputs": [],
   "source": [
    "import os\n",
    "import nltk\n",
    "import pandas as pd\n",
    "import Step1_Module as stp1"
   ]
  },
  {
   "cell_type": "code",
   "execution_count": null,
   "metadata": {},
   "outputs": [],
   "source": []
  },
  {
   "cell_type": "code",
   "execution_count": null,
   "metadata": {},
   "outputs": [],
   "source": [
    "# IMPORT WORD FREQUENCY BY DOCKET SHEET"
   ]
  },
  {
   "cell_type": "code",
   "execution_count": 7,
   "metadata": {
    "scrolled": true
   },
   "outputs": [],
   "source": [
    "DocketSheet_wordSet_Freq_Dist = r'C:\\Users\\Chris.Cirelli\\Desktop\\Python Programming Docs\\GSU\\Sprint Project\\Docket-Sheet-Classification\\DocketSheet_wordSet_Freq_Dist.xlsx'\n",
    "df_docketsheet_freq_dist = pd.read_excel(DocketSheet_wordSet_Freq_Dist, sheetname = 'Final List')"
   ]
  },
  {
   "cell_type": "code",
   "execution_count": 9,
   "metadata": {},
   "outputs": [],
   "source": [
    "Key_word_list = [x for x in df_docketsheet_freq_dist.iloc[:,0]]"
   ]
  },
  {
   "cell_type": "code",
   "execution_count": 12,
   "metadata": {},
   "outputs": [],
   "source": [
    "# CREATE COLUMN NAMES USING KEY WORDS. "
   ]
  },
  {
   "cell_type": "code",
   "execution_count": 22,
   "metadata": {},
   "outputs": [],
   "source": [
    "df_DAT = pd.DataFrame({}, index = [x for x in range(0,100)])\n",
    "\n",
    "for x in Key_word_list:\n",
    "    df_DAT[x] = ''"
   ]
  },
  {
   "cell_type": "code",
   "execution_count": null,
   "metadata": {},
   "outputs": [],
   "source": []
  },
  {
   "cell_type": "code",
   "execution_count": null,
   "metadata": {},
   "outputs": [],
   "source": [
    "# IMPORT ORIGINAL DOCKET SHEET FILE W/ PRE-CLASSIFIED ROWS"
   ]
  },
  {
   "cell_type": "code",
   "execution_count": 32,
   "metadata": {},
   "outputs": [],
   "source": [
    "df_docketsheet_preclassified_file = pd.read_excel(r'C:\\Users\\Chris.Cirelli\\Desktop\\Python Programming Docs\\GSU\\Sprint Project\\Docket-Sheet-Classification\\DocketSheet Classification_70_02.22.2018.xlsx')"
   ]
  },
  {
   "cell_type": "code",
   "execution_count": 40,
   "metadata": {},
   "outputs": [],
   "source": [
    "df_docketsheet_preclassified_narrow_col = df_docketsheet_preclassified_file.iloc[:,:7]\n",
    "df_TP_int = df_docketsheet_preclassified_narrow_col['Time Period'] > 0\n",
    "df_docketsheet_preclassified_narrow_TP = df_docketsheet_preclassified_narrow_col[df_TP_int]"
   ]
  },
  {
   "cell_type": "code",
   "execution_count": 42,
   "metadata": {},
   "outputs": [
    {
     "data": {
      "text/html": [
       "<div>\n",
       "<style>\n",
       "    .dataframe thead tr:only-child th {\n",
       "        text-align: right;\n",
       "    }\n",
       "\n",
       "    .dataframe thead th {\n",
       "        text-align: left;\n",
       "    }\n",
       "\n",
       "    .dataframe tbody tr th {\n",
       "        vertical-align: top;\n",
       "    }\n",
       "</style>\n",
       "<table border=\"1\" class=\"dataframe\">\n",
       "  <thead>\n",
       "    <tr style=\"text-align: right;\">\n",
       "      <th></th>\n",
       "      <th>Case Number</th>\n",
       "      <th>Activiy Date</th>\n",
       "      <th>Activity Number</th>\n",
       "      <th>docket_text</th>\n",
       "      <th>Index</th>\n",
       "      <th>Relevant</th>\n",
       "      <th>Time Period</th>\n",
       "    </tr>\n",
       "  </thead>\n",
       "  <tbody>\n",
       "    <tr>\n",
       "      <th>0</th>\n",
       "      <td>1:10-cv-00007-JEC</td>\n",
       "      <td>2010-01-04</td>\n",
       "      <td>1</td>\n",
       "      <td>COMPLAINT with Jury Demand, filed by Christoph...</td>\n",
       "      <td>0.0</td>\n",
       "      <td>1.0</td>\n",
       "      <td>1.0</td>\n",
       "    </tr>\n",
       "    <tr>\n",
       "      <th>5</th>\n",
       "      <td>1:10-cv-00007-JEC</td>\n",
       "      <td>2010-03-16</td>\n",
       "      <td>6</td>\n",
       "      <td>ANSWER to 1 COMPLAINT by Brian Owens, Georgia ...</td>\n",
       "      <td>5.0</td>\n",
       "      <td>1.0</td>\n",
       "      <td>2.0</td>\n",
       "    </tr>\n",
       "    <tr>\n",
       "      <th>7</th>\n",
       "      <td>1:10-cv-00007-JEC</td>\n",
       "      <td>2010-04-15</td>\n",
       "      <td>8</td>\n",
       "      <td>Initial Disclosures by Brian Owens, Georgia De...</td>\n",
       "      <td>7.0</td>\n",
       "      <td>1.0</td>\n",
       "      <td>5.0</td>\n",
       "    </tr>\n",
       "    <tr>\n",
       "      <th>8</th>\n",
       "      <td>1:10-cv-00007-JEC</td>\n",
       "      <td>2010-04-19</td>\n",
       "      <td>9</td>\n",
       "      <td>PRELIMINARY REPORT AND DISCOVERY PLAN filed by...</td>\n",
       "      <td>8.0</td>\n",
       "      <td>1.0</td>\n",
       "      <td>5.0</td>\n",
       "    </tr>\n",
       "    <tr>\n",
       "      <th>18</th>\n",
       "      <td>1:10-cv-00007-JEC</td>\n",
       "      <td>2010-11-12</td>\n",
       "      <td>19</td>\n",
       "      <td>ANSWER and Demand for Settlement by Christophe...</td>\n",
       "      <td>21.0</td>\n",
       "      <td>1.0</td>\n",
       "      <td>2.0</td>\n",
       "    </tr>\n",
       "  </tbody>\n",
       "</table>\n",
       "</div>"
      ],
      "text/plain": [
       "          Case Number Activiy Date Activity Number  \\\n",
       "0   1:10-cv-00007-JEC   2010-01-04               1   \n",
       "5   1:10-cv-00007-JEC   2010-03-16               6   \n",
       "7   1:10-cv-00007-JEC   2010-04-15               8   \n",
       "8   1:10-cv-00007-JEC   2010-04-19               9   \n",
       "18  1:10-cv-00007-JEC   2010-11-12              19   \n",
       "\n",
       "                                          docket_text  Index  Relevant  \\\n",
       "0   COMPLAINT with Jury Demand, filed by Christoph...    0.0       1.0   \n",
       "5   ANSWER to 1 COMPLAINT by Brian Owens, Georgia ...    5.0       1.0   \n",
       "7   Initial Disclosures by Brian Owens, Georgia De...    7.0       1.0   \n",
       "8   PRELIMINARY REPORT AND DISCOVERY PLAN filed by...    8.0       1.0   \n",
       "18  ANSWER and Demand for Settlement by Christophe...   21.0       1.0   \n",
       "\n",
       "    Time Period  \n",
       "0           1.0  \n",
       "5           2.0  \n",
       "7           5.0  \n",
       "8           5.0  \n",
       "18          2.0  "
      ]
     },
     "execution_count": 42,
     "metadata": {},
     "output_type": "execute_result"
    }
   ],
   "source": [
    "df_docketsheet_preclassified_narrow_TP.head()"
   ]
  },
  {
   "cell_type": "code",
   "execution_count": null,
   "metadata": {},
   "outputs": [],
   "source": []
  },
  {
   "cell_type": "code",
   "execution_count": null,
   "metadata": {},
   "outputs": [],
   "source": [
    "# Lets run the entire code using our old formulas and then transpose the df (flip it). "
   ]
  },
  {
   "cell_type": "code",
   "execution_count": 43,
   "metadata": {},
   "outputs": [],
   "source": [
    "df_DAT = pd.DataFrame({}, index = [x for x in Key_word_list])"
   ]
  },
  {
   "cell_type": "code",
   "execution_count": 45,
   "metadata": {},
   "outputs": [
    {
     "data": {
      "text/html": [
       "<div>\n",
       "<style>\n",
       "    .dataframe thead tr:only-child th {\n",
       "        text-align: right;\n",
       "    }\n",
       "\n",
       "    .dataframe thead th {\n",
       "        text-align: left;\n",
       "    }\n",
       "\n",
       "    .dataframe tbody tr th {\n",
       "        vertical-align: top;\n",
       "    }\n",
       "</style>\n",
       "<table border=\"1\" class=\"dataframe\">\n",
       "  <thead>\n",
       "    <tr style=\"text-align: right;\">\n",
       "      <th></th>\n",
       "    </tr>\n",
       "  </thead>\n",
       "  <tbody>\n",
       "    <tr>\n",
       "      <th>appeal</th>\n",
       "    </tr>\n",
       "    <tr>\n",
       "      <th>approv</th>\n",
       "    </tr>\n",
       "    <tr>\n",
       "      <th>attach</th>\n",
       "    </tr>\n",
       "    <tr>\n",
       "      <th>attach</th>\n",
       "    </tr>\n",
       "    <tr>\n",
       "      <th>brief</th>\n",
       "    </tr>\n",
       "  </tbody>\n",
       "</table>\n",
       "</div>"
      ],
      "text/plain": [
       "Empty DataFrame\n",
       "Columns: []\n",
       "Index: [appeal, approv, attach, attach, brief]"
      ]
     },
     "execution_count": 45,
     "metadata": {},
     "output_type": "execute_result"
    }
   ],
   "source": [
    "df_DAT.head()"
   ]
  },
  {
   "cell_type": "code",
   "execution_count": null,
   "metadata": {},
   "outputs": [],
   "source": [
    "'''\n",
    "- Iterate the rows using itertuple\n",
    "- Run the cleaning code on the test\n",
    "- Run the match function on the cleaned text\n",
    "- Append results to a list\n",
    "- Append tuple (Case number, list) to list \n",
    "- Iterate over list create df columns (df[tuple[0], = list])\n",
    "- transpose df\n",
    "- return to user\n",
    "'''"
   ]
  },
  {
   "cell_type": "code",
   "execution_count": null,
   "metadata": {},
   "outputs": [],
   "source": []
  },
  {
   "cell_type": "code",
   "execution_count": null,
   "metadata": {},
   "outputs": [],
   "source": [
    "def master_code_Pipeline_create_dataframe_setWord_freqDist(Docket_sheet_file):\n",
    "    \n",
    "    # 5.) Create Set of Words From Clean & Tokenized Concat Text File\n",
    "    Set_tokenized_concatText = Key_word_list\n",
    "    \n",
    "    stemmer = PorterStemmer()\n",
    "    List = [x for x in Set_tokenized_concatText]\n",
    "    List_stems = [stemmer.stem(x) for x in List]\n",
    "    \n",
    "    # 6.) Create & Return Word Frequency Distribution Dataframe\n",
    "    df_word_freq_final = dsc_m.create_dataframe_setWord_freqDist(df_Master_DocketSheet_File, List_stems)\n",
    "    \n",
    "    return df_word_freq_final"
   ]
  },
  {
   "cell_type": "code",
   "execution_count": null,
   "metadata": {},
   "outputs": [],
   "source": []
  },
  {
   "cell_type": "code",
   "execution_count": null,
   "metadata": {},
   "outputs": [],
   "source": []
  },
  {
   "cell_type": "code",
   "execution_count": null,
   "metadata": {},
   "outputs": [],
   "source": []
  },
  {
   "cell_type": "code",
   "execution_count": null,
   "metadata": {},
   "outputs": [],
   "source": []
  },
  {
   "cell_type": "code",
   "execution_count": null,
   "metadata": {},
   "outputs": [],
   "source": []
  },
  {
   "cell_type": "code",
   "execution_count": null,
   "metadata": {},
   "outputs": [],
   "source": []
  },
  {
   "cell_type": "code",
   "execution_count": null,
   "metadata": {},
   "outputs": [],
   "source": []
  },
  {
   "cell_type": "code",
   "execution_count": null,
   "metadata": {},
   "outputs": [],
   "source": []
  }
 ],
 "metadata": {
  "kernelspec": {
   "display_name": "Python 3",
   "language": "python",
   "name": "python3"
  },
  "language_info": {
   "codemirror_mode": {
    "name": "ipython",
    "version": 3
   },
   "file_extension": ".py",
   "mimetype": "text/x-python",
   "name": "python",
   "nbconvert_exporter": "python",
   "pygments_lexer": "ipython3",
   "version": "3.6.1"
  }
 },
 "nbformat": 4,
 "nbformat_minor": 2
}
