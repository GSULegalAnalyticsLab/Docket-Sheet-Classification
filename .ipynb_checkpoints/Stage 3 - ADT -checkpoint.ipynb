{
 "cells": [
  {
   "cell_type": "code",
   "execution_count": 6,
   "metadata": {},
   "outputs": [],
   "source": []
  },
  {
   "cell_type": "code",
   "execution_count": null,
   "metadata": {},
   "outputs": [],
   "source": [
    "# IMPORT PACKAGES"
   ]
  },
  {
   "cell_type": "code",
   "execution_count": 2,
   "metadata": {},
   "outputs": [],
   "source": [
    "import os\n",
    "import nltk\n",
    "import pandas as pd\n",
    "import Step1_Module as s1_m\n"
   ]
  },
  {
   "cell_type": "code",
   "execution_count": null,
   "metadata": {},
   "outputs": [],
   "source": []
  },
  {
   "cell_type": "code",
   "execution_count": 2,
   "metadata": {},
   "outputs": [],
   "source": [
    "# IMPORT files"
   ]
  },
  {
   "cell_type": "code",
   "execution_count": 20,
   "metadata": {
    "scrolled": true
   },
   "outputs": [],
   "source": [
    "# Import Docket sheets w/ pre-classified time periods\n",
    "df_docketsheet_master_file_preClass_timePeriods = pd.read_excel(r'C:\\Users\\Chris.Cirelli\\Desktop\\Python Programming Docs\\GSU\\Sprint Project\\Docket-Sheet-Classification\\DocketSheet Classification_70_02.22.2018.xlsx')\n"
   ]
  },
  {
   "cell_type": "code",
   "execution_count": 4,
   "metadata": {},
   "outputs": [],
   "source": [
    "# Import List of Key Words\n",
    "df_docketsheet_key_words = pd.read_excel(r'C:\\Users\\Chris.Cirelli\\Desktop\\Python Programming Docs\\GSU\\Sprint Project\\Docket-Sheet-Classification\\DocketSheet_wordSet_Freq_Dist.xlsx', sheetname = 'Final List')"
   ]
  },
  {
   "cell_type": "code",
   "execution_count": null,
   "metadata": {},
   "outputs": [],
   "source": []
  },
  {
   "cell_type": "code",
   "execution_count": null,
   "metadata": {},
   "outputs": [],
   "source": [
    "# IMPORT ORIGINAL DOCKET SHEET FILE W/ PRE-CLASSIFIED ROWS"
   ]
  },
  {
   "cell_type": "code",
   "execution_count": 12,
   "metadata": {},
   "outputs": [],
   "source": [
    "def adjust_rows_cols_docketsheet(df_docket_sheet):\n",
    "    \n",
    "    df_docketsheet_preclassified_narrow_col = df_docket_sheet.iloc[:,:7]\n",
    "    df_TP_int = df_docketsheet_preclassified_narrow_col['Time Period'] > 0\n",
    "    df_docketsheet_preclassified_narrow_TP = df_docketsheet_preclassified_narrow_col[df_TP_int]\n",
    "    \n",
    "    return df_docketsheet_preclassified_narrow_TP \n",
    "\n",
    "df_docketsheet_adj_rows_cols = adjust_rows_cols_docketsheet(df_docketsheet_master_file_preClass_timePeriods)"
   ]
  },
  {
   "cell_type": "code",
   "execution_count": null,
   "metadata": {},
   "outputs": [],
   "source": []
  },
  {
   "cell_type": "code",
   "execution_count": null,
   "metadata": {},
   "outputs": [],
   "source": [
    "# Lets run the entire code using our old formulas and then transpose the df (flip it). "
   ]
  },
  {
   "cell_type": "code",
   "execution_count": null,
   "metadata": {},
   "outputs": [],
   "source": []
  },
  {
   "cell_type": "code",
   "execution_count": null,
   "metadata": {},
   "outputs": [],
   "source": [
    "'''\n",
    "- Iterate the rows using itertuple\n",
    "- Run the cleaning code on the test\n",
    "- Run the match function on the cleaned text\n",
    "- Append results to a list\n",
    "- Append tuple (Case number, list) to list \n",
    "- Iterate over list create df columns (df[tuple[0], = list])\n",
    "- transpose df\n",
    "- return to user\n",
    "'''"
   ]
  },
  {
   "cell_type": "code",
   "execution_count": null,
   "metadata": {},
   "outputs": [],
   "source": []
  },
  {
   "cell_type": "code",
   "execution_count": 26,
   "metadata": {},
   "outputs": [],
   "source": [
    "\n"
   ]
  },
  {
   "cell_type": "code",
   "execution_count": 27,
   "metadata": {},
   "outputs": [],
   "source": [
    "def get_freq_dist(Docketsheet, df_key_words):\n",
    "    \n",
    "    # Create List of Key Words\n",
    "    \n",
    "    Key_word_list = [x for x in df_key_words.iloc[:,0]]\n",
    "    \n",
    "    # Create New Dataframe\n",
    "    df_DAT = pd.DataFrame({}, index = Key_word_list)\n",
    "    \n",
    "    # Count of Rows\n",
    "    Count = 0\n",
    "    \n",
    "    # Iterate over row of the docketsheet df as an enumerated tuple. \n",
    "    for row in Docketsheet.itertuples():\n",
    "        \n",
    "        # Count rows\n",
    "        Count += 1\n",
    "        \n",
    "        # List to capture each row.  List will reset on each iteration of the code. \n",
    "        List_matches_single_row = []\n",
    "    \n",
    "        # So iterate every word in key_word_list for each rows \n",
    "        for word in Key_word_list:\n",
    "            \n",
    "            # Clean row[4], which is the text column of the docketsheet. \n",
    "            clean_tokenize_row = s1_m.clean_andTokenize_text(row[4])\n",
    "\n",
    "            # Check to see if the word is in the clean text\n",
    "            if word in clean_tokenize_row:\n",
    "                # If there is a match, append 1 to the list\n",
    "                List_matches_single_row.append(1)\n",
    "            else: \n",
    "                # If not, append 0\n",
    "                List_matches_single_row.append(0)\n",
    "        \n",
    "        # Capture each list of matches as a single column in the dataframe and title it with the case number\n",
    "        df_DAT[row[1]] = List_matches_single_row        \n",
    "\n",
    "    # Return our dataframe w/ an index as the list of key words, columns as each case. \n",
    "    \n",
    "    return df_DAT"
   ]
  },
  {
   "cell_type": "code",
   "execution_count": 28,
   "metadata": {},
   "outputs": [],
   "source": [
    "key_word_freq_docketsheet = get_freq_dist(df_docketsheet_adj_rows_cols, \n",
    "                                          df_docketsheet_key_words)"
   ]
  },
  {
   "cell_type": "code",
   "execution_count": null,
   "metadata": {},
   "outputs": [],
   "source": []
  },
  {
   "cell_type": "code",
   "execution_count": null,
   "metadata": {},
   "outputs": [],
   "source": [
    "# Transpose dataframe"
   ]
  },
  {
   "cell_type": "code",
   "execution_count": 31,
   "metadata": {},
   "outputs": [],
   "source": [
    "df_final = pd.DataFrame.transpose(key_word_freq_docketsheet)"
   ]
  },
  {
   "cell_type": "code",
   "execution_count": null,
   "metadata": {},
   "outputs": [],
   "source": []
  },
  {
   "cell_type": "code",
   "execution_count": null,
   "metadata": {},
   "outputs": [],
   "source": []
  },
  {
   "cell_type": "code",
   "execution_count": 34,
   "metadata": {},
   "outputs": [],
   "source": [
    "# WRITE FILE TO EXCEL\n",
    "\n",
    "def write_to_excel(dataframe, filename):\n",
    "    import pandas as pd\n",
    "    writer = pd.ExcelWriter(filename+'.xlsx')\n",
    "    dataframe.to_excel(writer, sheet_name = 'Data')\n",
    "    writer.save()\n"
   ]
  },
  {
   "cell_type": "code",
   "execution_count": 35,
   "metadata": {},
   "outputs": [],
   "source": [
    "write_to_excel(df_final, 'Data Analytics Table_w_Word Freq')"
   ]
  },
  {
   "cell_type": "code",
   "execution_count": null,
   "metadata": {},
   "outputs": [],
   "source": []
  },
  {
   "cell_type": "code",
   "execution_count": 114,
   "metadata": {},
   "outputs": [],
   "source": [
    "df_final_head = df_final"
   ]
  },
  {
   "cell_type": "code",
   "execution_count": 113,
   "metadata": {},
   "outputs": [],
   "source": [
    "df_docketsheet_head = df_docketsheet_preclassified_narrow_TP\n"
   ]
  },
  {
   "cell_type": "code",
   "execution_count": 115,
   "metadata": {},
   "outputs": [],
   "source": [
    "for row in df_docketsheet_head.itertuples():\n",
    "    case_num = row[1]\n",
    "    \n",
    "    if case_num not in df_final.index:\n",
    "        print(case_num)"
   ]
  },
  {
   "cell_type": "code",
   "execution_count": null,
   "metadata": {},
   "outputs": [],
   "source": []
  },
  {
   "cell_type": "code",
   "execution_count": null,
   "metadata": {},
   "outputs": [],
   "source": []
  },
  {
   "cell_type": "code",
   "execution_count": null,
   "metadata": {},
   "outputs": [],
   "source": []
  }
 ],
 "metadata": {
  "kernelspec": {
   "display_name": "Python 3",
   "language": "python",
   "name": "python3"
  },
  "language_info": {
   "codemirror_mode": {
    "name": "ipython",
    "version": 3
   },
   "file_extension": ".py",
   "mimetype": "text/x-python",
   "name": "python",
   "nbconvert_exporter": "python",
   "pygments_lexer": "ipython3",
   "version": "3.6.1"
  }
 },
 "nbformat": 4,
 "nbformat_minor": 2
}
