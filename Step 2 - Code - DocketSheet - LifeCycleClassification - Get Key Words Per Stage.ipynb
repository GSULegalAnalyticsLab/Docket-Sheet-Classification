{
 "cells": [
  {
   "cell_type": "code",
   "execution_count": null,
   "metadata": {},
   "outputs": [],
   "source": []
  },
  {
   "cell_type": "code",
   "execution_count": null,
   "metadata": {},
   "outputs": [],
   "source": [
    "# IMPORT LIBRARIES"
   ]
  },
  {
   "cell_type": "code",
   "execution_count": 94,
   "metadata": {},
   "outputs": [],
   "source": [
    "import pandas as pd\n",
    "#import Step2_Module as step2"
   ]
  },
  {
   "cell_type": "code",
   "execution_count": null,
   "metadata": {},
   "outputs": [],
   "source": []
  },
  {
   "cell_type": "code",
   "execution_count": null,
   "metadata": {},
   "outputs": [],
   "source": [
    "# IMPORT FREQUENCY DISTRIBUTION EXCEL FILE AS DATAFRAME"
   ]
  },
  {
   "cell_type": "code",
   "execution_count": 95,
   "metadata": {},
   "outputs": [],
   "source": [
    "df_freqDist = pd.read_excel(r'C:\\Users\\Chris.Cirelli\\Desktop\\Python Programming Docs\\GSU\\Sprint Project\\Docket-Sheet-Classification\\DocketSheet_wordSet_Freq_Dist.xlsx')"
   ]
  },
  {
   "cell_type": "code",
   "execution_count": null,
   "metadata": {},
   "outputs": [],
   "source": []
  },
  {
   "cell_type": "code",
   "execution_count": 96,
   "metadata": {},
   "outputs": [],
   "source": [
    "def get_df_top5words_STDV(dataframe, Stage):\n",
    "    '''The purpose of this function is to create a new dataframe that includes the 5 words with the highest STDV\n",
    "    \n",
    "    Input      = Dataframe that includes the AVG and STDV calculated for the Life Cycle Stage in Question\n",
    "    Operations = Sort dataframe on STDV column, limit to top 5 rows, create new dataframe with Index = 1-5, create col for words and STDVs\n",
    "    Output     = Dataframe with 5 rows, 2 cols, top5 words w/ STDV values. \n",
    "    '''\n",
    "    # Sort the Dataframe col \"STDV\" Ascending\n",
    "    df_sorted = dataframe.sort_values(by = 'STDV', ascending = False)\n",
    "    \n",
    "    # Obtain First 5 Rows\n",
    "    df_sorted_topFive = df_sorted.iloc[:5,]\n",
    "    \n",
    "    # Create New Dataframe Whose Index = 1-5\n",
    "    df_final = pd.DataFrame({}, index = [1,2,3,4,5])\n",
    "    \n",
    "    # Create a Column to capture the top 5 words. \n",
    "    df_final['Life Cycle Stage: '+str(Stage)] = df_sorted_topFive.index\n",
    "    \n",
    "    # Create a Column to Capture the STDV for each word.\n",
    "    df_final['Stage 1: STDV'] = [row for row in df_sorted_topFive['STDV']]\n",
    "    \n",
    "    # Retun the final dataframe\n",
    "    return df_final\n",
    "            "
   ]
  },
  {
   "cell_type": "code",
   "execution_count": null,
   "metadata": {},
   "outputs": [],
   "source": []
  },
  {
   "cell_type": "code",
   "execution_count": 97,
   "metadata": {},
   "outputs": [],
   "source": [
    "def get_AVG_STDV_Target_Stage(dataframe):\n",
    "       \n",
    "    # Define lists to capture avg and stdv values for each row. \n",
    "    List_avg = []\n",
    "    List_stdv = []\n",
    "    \n",
    "    for row in dataframe.itertuples():\n",
    "        # Get the Average of row for all columns but col 1. \n",
    "        AVG = round(sum(row[2:]) / len(row[2:]), 2)\n",
    "        # Get the Standard Deviation of row[1] / Avg. \n",
    "        STDV = row[1] / AVG\n",
    "        \n",
    "        #Append Values to the lists\n",
    "        List_avg.append(AVG)\n",
    "        List_stdv.append(STDV)\n",
    "    \n",
    "    # Create Columns for the AVG and STDV values\n",
    "    dataframe['AVG'] = List_avg\n",
    "    dataframe['STDV'] = List_stdv\n",
    "    \n",
    "    # Return the dataframe with the calculated avg and stdv values \n",
    "    return dataframe"
   ]
  },
  {
   "cell_type": "code",
   "execution_count": null,
   "metadata": {},
   "outputs": [],
   "source": []
  },
  {
   "cell_type": "code",
   "execution_count": null,
   "metadata": {},
   "outputs": [],
   "source": [
    "# GET WORDS WITH HIGHEST STDV FOR EACH LIFE CYCLE STAGE"
   ]
  },
  {
   "cell_type": "code",
   "execution_count": 143,
   "metadata": {},
   "outputs": [],
   "source": [
    "def get_top5words_highestSTDV_each_LCstage(df_freqDist):\n",
    "    '''The purpose of this function is to return a dataframe for each Life Cycle Stage with the Top 5 words with the highest standard deviation.\n",
    "    \n",
    "    Input      = Dataframe with the frequency with which each word appears in the 11 life cycle stages. \n",
    "    Operations = 1.) Rename columns to numerical representations of each stage. \n",
    "                 2.) Create a function that rotates the columns one by one in ascending order.\n",
    "                 3.) For each iteration of this rotation write a function that generates a dataframe with two columns, the Life Cycle Stage w/ names & the concurrent \n",
    "                 STDV vs the other time periods. \n",
    "                 4.) Combine the columns into a single dataframe from each time period. = 50 columns or structure into rows, 5 columns, 22 rows. \n",
    "    Output     = Dataframe with two columns, 1 that whose header is the LC stage, 5 rows with words with top 5 STDV from other LC stages.  \n",
    "    '''\n",
    "    \n",
    "    # Rename Columns - Integer representation of each Stage (1-11).\n",
    "    \n",
    "    df_rename_cols = df_freqDist.rename(index = str, columns = {'Life Cycle Stage: 1.0': 1 , 'Life Cycle Stage: 2.0': 2, \n",
    "                                                                'Life Cycle Stage: 3.0': 3, 'Life Cycle Stage: 4.0':  4,\n",
    "                                                                'Life Cycle Stage: 5.0': 5, 'Life Cycle Stage: 6.0':  6,\n",
    "                                                                'Life Cycle Stage: 7.0': 7, 'Life Cycle Stage: 8.0':  8,\n",
    "                                                                'Life Cycle Stage: 9.0': 9, 'Life Cycle Stage: 10.0': 10,\n",
    "                                                                'Life Cycle Stage: 11.0': 11})\n",
    "        \n",
    "    # List LC Stages Top 5 words w/ highest STDV\n",
    "    df_final_top5 = pd.DataFrame({}, index = [1,2,3,4,5])\n",
    "    \n",
    "    # Keep Count of Life Cycle Stage\n",
    "    Stage = ''\n",
    "\n",
    "    # Iterative Function to Rotate Our Columns in Ascending Order. \n",
    "    for num in range(1,11):\n",
    "        \n",
    "        # Loop Starts at Life Cycle 1.  Set Condition that when it reaches 11 it stops. \n",
    "        if df_rename_cols.columns[0] != 101:\n",
    "                       \n",
    "            # Stage\n",
    "            Stage = df_rename_cols.columns[0]\n",
    "            \n",
    "            # Function to obtain the AVG and STDV for the top 5 words.\n",
    "            df_AVG_STDV = get_AVG_STDV_Target_Stage(df_rename_cols)\n",
    "                      \n",
    "            # Error in Code.  df_rename_cols is directly being appended AVG, STDV.  Not clear why.  Needed to recreate the object here\n",
    "            # and drop the AVG and STDV columns for the code to run. \n",
    "            df_rename_cols = df_rename_cols.drop(['AVG', 'STDV'], axis = 1)\n",
    "            \n",
    "            # Get Dataframe of Top 5 words with highest STDV\n",
    "            df_top5_AVG_STDV = get_df_top5words_STDV(df_AVG_STDV, Stage)\n",
    "            \n",
    "            # Append New DataFrame to List\n",
    "            df_final_top5[df_top5_AVG_STDV.columns[0]] = df_top5_AVG_STDV.iloc[:,0]\n",
    "                    \n",
    "            # Rename the first column to = num + 100.  Num = Original Col1 at each iteration.\n",
    "            df_rename_cols = df_rename_cols.rename(index = str, columns = {num: num+100})\n",
    "            \n",
    "            # With the first column renamed, sort ascending.  This will move the first column to the end. \n",
    "            df_rename_cols = df_rename_cols.sort_index(axis = 1, ascending = True)\n",
    "    \n",
    "    \n",
    "    \n",
    "    # Return to the user the list of dataframes for each of the 11 Life Cycle Stages. \n",
    "    return df_final_top5"
   ]
  },
  {
   "cell_type": "code",
   "execution_count": null,
   "metadata": {},
   "outputs": [],
   "source": []
  },
  {
   "cell_type": "code",
   "execution_count": 144,
   "metadata": {},
   "outputs": [
    {
     "name": "stderr",
     "output_type": "stream",
     "text": [
      "C:\\Users\\Chris.Cirelli\\AppData\\Local\\Continuum\\Anaconda3\\lib\\site-packages\\ipykernel_launcher.py:11: RuntimeWarning: invalid value encountered in double_scalars\n",
      "  # This is added back by InteractiveShellApp.init_path()\n",
      "C:\\Users\\Chris.Cirelli\\AppData\\Local\\Continuum\\Anaconda3\\lib\\site-packages\\ipykernel_launcher.py:11: RuntimeWarning: divide by zero encountered in double_scalars\n",
      "  # This is added back by InteractiveShellApp.init_path()\n"
     ]
    }
   ],
   "source": [
    "Test_list_df = get_top5words_highestSTDV_each_LCstage(df_freqDist)"
   ]
  },
  {
   "cell_type": "code",
   "execution_count": null,
   "metadata": {},
   "outputs": [],
   "source": []
  },
  {
   "cell_type": "code",
   "execution_count": 145,
   "metadata": {},
   "outputs": [
    {
     "data": {
      "text/html": [
       "<div>\n",
       "<style>\n",
       "    .dataframe thead tr:only-child th {\n",
       "        text-align: right;\n",
       "    }\n",
       "\n",
       "    .dataframe thead th {\n",
       "        text-align: left;\n",
       "    }\n",
       "\n",
       "    .dataframe tbody tr th {\n",
       "        vertical-align: top;\n",
       "    }\n",
       "</style>\n",
       "<table border=\"1\" class=\"dataframe\">\n",
       "  <thead>\n",
       "    <tr style=\"text-align: right;\">\n",
       "      <th></th>\n",
       "      <th>Life Cycle Stage: 1</th>\n",
       "      <th>Life Cycle Stage: 2</th>\n",
       "      <th>Life Cycle Stage: 3</th>\n",
       "      <th>Life Cycle Stage: 4</th>\n",
       "      <th>Life Cycle Stage: 5</th>\n",
       "      <th>Life Cycle Stage: 6</th>\n",
       "      <th>Life Cycle Stage: 7</th>\n",
       "      <th>Life Cycle Stage: 8</th>\n",
       "      <th>Life Cycle Stage: 9</th>\n",
       "      <th>Life Cycle Stage: 10</th>\n",
       "    </tr>\n",
       "  </thead>\n",
       "  <tbody>\n",
       "    <tr>\n",
       "      <th>1</th>\n",
       "      <td>includes</td>\n",
       "      <td>product</td>\n",
       "      <td>march</td>\n",
       "      <td>pjm</td>\n",
       "      <td>rojas</td>\n",
       "      <td>difficulties</td>\n",
       "      <td>part</td>\n",
       "      <td>administratively</td>\n",
       "      <td>cause</td>\n",
       "      <td>johnson</td>\n",
       "    </tr>\n",
       "    <tr>\n",
       "      <th>2</th>\n",
       "      <td>adg</td>\n",
       "      <td>simpson</td>\n",
       "      <td>wages</td>\n",
       "      <td>dismissing</td>\n",
       "      <td>adding</td>\n",
       "      <td>additional</td>\n",
       "      <td>opinion</td>\n",
       "      <td>marvin</td>\n",
       "      <td>accordingly</td>\n",
       "      <td>letter</td>\n",
       "    </tr>\n",
       "    <tr>\n",
       "      <th>3</th>\n",
       "      <td>echols</td>\n",
       "      <td>iii</td>\n",
       "      <td>caudle</td>\n",
       "      <td>clerks</td>\n",
       "      <td>glover</td>\n",
       "      <td>facts</td>\n",
       "      <td>objections</td>\n",
       "      <td>document</td>\n",
       "      <td>affected</td>\n",
       "      <td>supersedeas</td>\n",
       "    </tr>\n",
       "    <tr>\n",
       "      <th>4</th>\n",
       "      <td>cindy</td>\n",
       "      <td>corporation</td>\n",
       "      <td>claims</td>\n",
       "      <td>provides</td>\n",
       "      <td>delien</td>\n",
       "      <td>k</td>\n",
       "      <td>count</td>\n",
       "      <td>penney</td>\n",
       "      <td>adjusted</td>\n",
       "      <td>michael</td>\n",
       "    </tr>\n",
       "    <tr>\n",
       "      <th>5</th>\n",
       "      <td>right</td>\n",
       "      <td>elizabeth</td>\n",
       "      <td>individually</td>\n",
       "      <td>awarding</td>\n",
       "      <td>byrnside</td>\n",
       "      <td>extend</td>\n",
       "      <td>written</td>\n",
       "      <td>docket</td>\n",
       "      <td>bnw</td>\n",
       "      <td>kac</td>\n",
       "    </tr>\n",
       "  </tbody>\n",
       "</table>\n",
       "</div>"
      ],
      "text/plain": [
       "  Life Cycle Stage: 1 Life Cycle Stage: 2 Life Cycle Stage: 3  \\\n",
       "1            includes             product               march   \n",
       "2                 adg             simpson               wages   \n",
       "3              echols                 iii              caudle   \n",
       "4               cindy         corporation              claims   \n",
       "5               right           elizabeth        individually   \n",
       "\n",
       "  Life Cycle Stage: 4 Life Cycle Stage: 5 Life Cycle Stage: 6  \\\n",
       "1                 pjm               rojas        difficulties   \n",
       "2          dismissing              adding          additional   \n",
       "3              clerks              glover               facts   \n",
       "4            provides              delien                   k   \n",
       "5            awarding            byrnside              extend   \n",
       "\n",
       "  Life Cycle Stage: 7 Life Cycle Stage: 8 Life Cycle Stage: 9  \\\n",
       "1                part    administratively               cause   \n",
       "2             opinion              marvin         accordingly   \n",
       "3          objections            document            affected   \n",
       "4               count              penney            adjusted   \n",
       "5             written              docket                 bnw   \n",
       "\n",
       "  Life Cycle Stage: 10  \n",
       "1              johnson  \n",
       "2               letter  \n",
       "3          supersedeas  \n",
       "4              michael  \n",
       "5                  kac  "
      ]
     },
     "execution_count": 145,
     "metadata": {},
     "output_type": "execute_result"
    }
   ],
   "source": [
    "Test_list_df"
   ]
  },
  {
   "cell_type": "code",
   "execution_count": 67,
   "metadata": {},
   "outputs": [],
   "source": []
  },
  {
   "cell_type": "code",
   "execution_count": null,
   "metadata": {},
   "outputs": [],
   "source": []
  },
  {
   "cell_type": "code",
   "execution_count": null,
   "metadata": {},
   "outputs": [],
   "source": []
  },
  {
   "cell_type": "code",
   "execution_count": null,
   "metadata": {},
   "outputs": [],
   "source": []
  },
  {
   "cell_type": "code",
   "execution_count": null,
   "metadata": {},
   "outputs": [],
   "source": []
  }
 ],
 "metadata": {
  "kernelspec": {
   "display_name": "Python 3",
   "language": "python",
   "name": "python3"
  },
  "language_info": {
   "codemirror_mode": {
    "name": "ipython",
    "version": 3
   },
   "file_extension": ".py",
   "mimetype": "text/x-python",
   "name": "python",
   "nbconvert_exporter": "python",
   "pygments_lexer": "ipython3",
   "version": "3.6.1"
  }
 },
 "nbformat": 4,
 "nbformat_minor": 2
}
